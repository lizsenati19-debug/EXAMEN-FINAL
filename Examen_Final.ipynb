{
  "nbformat": 4,
  "nbformat_minor": 0,
  "metadata": {
    "colab": {
      "provenance": [],
      "authorship_tag": "ABX9TyP03hDnAddiR2gYClINoWn+",
      "include_colab_link": true
    },
    "kernelspec": {
      "name": "python3",
      "display_name": "Python 3"
    },
    "language_info": {
      "name": "python"
    }
  },
  "cells": [
    {
      "cell_type": "markdown",
      "metadata": {
        "id": "view-in-github",
        "colab_type": "text"
      },
      "source": [
        "<a href=\"https://colab.research.google.com/github/lizsenati19-debug/EXAMEN-FINAL/blob/main/Examen_Final.ipynb\" target=\"_parent\"><img src=\"https://colab.research.google.com/assets/colab-badge.svg\" alt=\"Open In Colab\"/></a>"
      ]
    },
    {
      "cell_type": "markdown",
      "source": [
        "# **EXAMEN - FINAL**"
      ],
      "metadata": {
        "id": "_jCnGs7BgOZj"
      }
    },
    {
      "cell_type": "markdown",
      "source": [
        "***Parte 1: Fundamentos NumPy***"
      ],
      "metadata": {
        "id": "C4kxFGedgTEq"
      }
    },
    {
      "cell_type": "markdown",
      "source": [
        "*1) Crear un arreglo del 1 al 20 con np.arange(1,21).*"
      ],
      "metadata": {
        "id": "KzRov3BLgWfp"
      }
    },
    {
      "cell_type": "code",
      "execution_count": 2,
      "metadata": {
        "colab": {
          "base_uri": "https://localhost:8080/"
        },
        "id": "5RhSecfmfvVh",
        "outputId": "4ed58904-b885-4e8e-9ddf-f997b748e59c"
      },
      "outputs": [
        {
          "output_type": "stream",
          "name": "stdout",
          "text": [
            "[ 1  2  3  4  5  6  7  8  9 10 11 12 13 14 15 16 17 18 19 20]\n"
          ]
        }
      ],
      "source": [
        "import numpy as np\n",
        "\n",
        "arreglo = np.arange(1, 21)\n",
        "\n",
        "print(arreglo)\n"
      ]
    },
    {
      "cell_type": "markdown",
      "source": [
        "*2) Filtrar múltiplos de 3 usando condiciones (arr[arr % 3 == 0]).*"
      ],
      "metadata": {
        "id": "ujRXOOkQgxLJ"
      }
    },
    {
      "cell_type": "code",
      "source": [
        "import numpy as np\n",
        "\n",
        "arreglo = np.arange(1, 21)\n",
        "multiplos_3 = arreglo[arreglo % 3 == 0]\n",
        "\n",
        "print(multiplos_3)\n"
      ],
      "metadata": {
        "colab": {
          "base_uri": "https://localhost:8080/"
        },
        "id": "xGY3z6Qmg0Ea",
        "outputId": "4dbb9350-dcc0-4641-d474-f3a2e20057df"
      },
      "execution_count": 3,
      "outputs": [
        {
          "output_type": "stream",
          "name": "stdout",
          "text": [
            "[ 3  6  9 12 15 18]\n"
          ]
        }
      ]
    },
    {
      "cell_type": "markdown",
      "source": [
        "`3) Generar matriz aleatoria 5x5 con np.random.rand(5,5).`"
      ],
      "metadata": {
        "id": "_HrDGEkUg_FC"
      }
    },
    {
      "cell_type": "code",
      "source": [
        "import numpy as np\n",
        "\n",
        "matriz = np.random.rand(5, 5)\n",
        "\n",
        "print(matriz)\n"
      ],
      "metadata": {
        "colab": {
          "base_uri": "https://localhost:8080/"
        },
        "id": "gotzuo_YiOO5",
        "outputId": "e769c4b4-8117-4281-9d7f-bb95e57452ee"
      },
      "execution_count": 4,
      "outputs": [
        {
          "output_type": "stream",
          "name": "stdout",
          "text": [
            "[[0.55841518 0.23877512 0.45210069 0.40255506 0.07475318]\n",
            " [0.98882306 0.25225185 0.4375601  0.28812879 0.34816147]\n",
            " [0.07219361 0.13984142 0.49868328 0.27539244 0.3738672 ]\n",
            " [0.8362742  0.5681367  0.84561202 0.95564682 0.05931861]\n",
            " [0.45690518 0.13055577 0.71366067 0.63174615 0.74388264]]\n"
          ]
        }
      ]
    },
    {
      "cell_type": "markdown",
      "source": [
        "*4. Calcular media, desviación estándar y máximo con .mean(), .std(), .max().*"
      ],
      "metadata": {
        "id": "VBSBhaFuhOEy"
      }
    },
    {
      "cell_type": "code",
      "source": [
        "import numpy as np\n",
        "\n",
        "matriz = np.random.rand(5, 5)\n",
        "\n",
        "media = matriz.mean()\n",
        "desviacion = matriz.std()\n",
        "maximo = matriz.max()\n",
        "\n",
        "print(\"Matriz:\\n\", matriz ,\"\\n\")\n",
        "print(\"Media:\", media)\n",
        "print(\"Desviacion estandar:\", desviacion)\n",
        "print(\"Maximo:\", maximo)\n"
      ],
      "metadata": {
        "colab": {
          "base_uri": "https://localhost:8080/"
        },
        "id": "jrl00olUiXMw",
        "outputId": "ae83e0d9-7677-4b0d-b283-d6f92ea8c4ae"
      },
      "execution_count": 28,
      "outputs": [
        {
          "output_type": "stream",
          "name": "stdout",
          "text": [
            "Matriz:\n",
            " [[0.33579029 0.89612338 0.00268375 0.8122495  0.6160679 ]\n",
            " [0.59443051 0.11004211 0.19367538 0.48599314 0.3497239 ]\n",
            " [0.96474275 0.69861326 0.8556067  0.96005038 0.50795915]\n",
            " [0.39491052 0.54720207 0.93844907 0.57806813 0.29734075]\n",
            " [0.39738284 0.49396031 0.16009304 0.62093537 0.13254632]] \n",
            "\n",
            "Media: 0.5177856196342008\n",
            "Desviacion estandar: 0.2781286205929507\n",
            "Maximo: 0.9647427498842532\n"
          ]
        }
      ]
    },
    {
      "cell_type": "markdown",
      "source": [
        "*5. Transformar matriz en vector con .flatten().*"
      ],
      "metadata": {
        "id": "lIRtlEi_hExk"
      }
    },
    {
      "cell_type": "code",
      "source": [
        "import numpy as np\n",
        "\n",
        "matriz = np.random.rand(5, 5)\n",
        "\n",
        "vector = matriz.flatten()\n",
        "\n",
        "print(\"Matriz:\\n\", matriz)\n",
        "print(\"\\nVector:\\n\", vector)\n"
      ],
      "metadata": {
        "colab": {
          "base_uri": "https://localhost:8080/"
        },
        "id": "PhSTLt41ijyj",
        "outputId": "dc2982cd-f998-4c31-804f-61300a6450de"
      },
      "execution_count": 8,
      "outputs": [
        {
          "output_type": "stream",
          "name": "stdout",
          "text": [
            "Matriz:\n",
            " [[0.63714147 0.61964736 0.43014738 0.1382806  0.10596907]\n",
            " [0.94986184 0.72595079 0.60606977 0.72567678 0.61319406]\n",
            " [0.19484756 0.56713985 0.54654268 0.91825258 0.94096135]\n",
            " [0.94030817 0.67987208 0.71594983 0.66268368 0.05506274]\n",
            " [0.92887725 0.77069767 0.48343911 0.71110008 0.20865732]]\n",
            "\n",
            "Vector:\n",
            " [0.63714147 0.61964736 0.43014738 0.1382806  0.10596907 0.94986184\n",
            " 0.72595079 0.60606977 0.72567678 0.61319406 0.19484756 0.56713985\n",
            " 0.54654268 0.91825258 0.94096135 0.94030817 0.67987208 0.71594983\n",
            " 0.66268368 0.05506274 0.92887725 0.77069767 0.48343911 0.71110008\n",
            " 0.20865732]\n"
          ]
        }
      ]
    },
    {
      "cell_type": "markdown",
      "source": [
        "***Parte 2: Fundamentos Pandas***"
      ],
      "metadata": {
        "id": "NyQnfhH3hRCb"
      }
    },
    {
      "cell_type": "markdown",
      "source": [
        "*1. Crear un DataFrame con los datos de estudiantes.*"
      ],
      "metadata": {
        "id": "70cLOa8shVHa"
      }
    },
    {
      "cell_type": "code",
      "source": [
        "import numpy as np\n",
        "import pandas as pd\n",
        "data = {\n",
        "    \"Nombre\": [\"Ana\", \"Luis\", \"Maria\", \"Pedro\", \"Sofia\"],\n",
        "    \"Edad\": [20, 21, 19, 22, 20],\n",
        "    \"Nota_Matematicas\": [18, 15, 16, 12, 19],\n",
        "    \"Nota_IA\": [17, 14, 18, 13, 20]\n",
        "}\n",
        "df = pd.DataFrame(data)\n",
        "print(df)\n"
      ],
      "metadata": {
        "colab": {
          "base_uri": "https://localhost:8080/"
        },
        "id": "T6o3YRSSi3tF",
        "outputId": "7d386839-1c3c-4f7f-9ced-ec23209dd5ac"
      },
      "execution_count": 30,
      "outputs": [
        {
          "output_type": "stream",
          "name": "stdout",
          "text": [
            "  Nombre  Edad  Nota_Matematicas  Nota_IA\n",
            "0    Ana    20                18       17\n",
            "1   Luis    21                15       14\n",
            "2  Maria    19                16       18\n",
            "3  Pedro    22                12       13\n",
            "4  Sofia    20                19       20\n"
          ]
        }
      ]
    },
    {
      "cell_type": "markdown",
      "source": [
        "*2. Calcula el promedio de cada columna numérica.*"
      ],
      "metadata": {
        "id": "lSnG6yaqhXtb"
      }
    },
    {
      "cell_type": "code",
      "source": [
        "import numpy as np\n",
        "import pandas as pd\n",
        "print(\"\\nPromedio por columna:\\n\", df.mean(numeric_only=True))"
      ],
      "metadata": {
        "colab": {
          "base_uri": "https://localhost:8080/"
        },
        "id": "DtH4PT9zjBOs",
        "outputId": "66809a9c-db22-41d3-d791-eee1360384d6"
      },
      "execution_count": 11,
      "outputs": [
        {
          "output_type": "stream",
          "name": "stdout",
          "text": [
            "\n",
            "Promedio por columna:\n",
            " Edad                20.4\n",
            "Nota_Matemáticas    16.0\n",
            "Nota_IA             16.4\n",
            "dtype: float64\n"
          ]
        }
      ]
    },
    {
      "cell_type": "markdown",
      "source": [
        "*3. Filtra los estudiantes con nota de IA mayor a 15*"
      ],
      "metadata": {
        "id": "Zr88AthKhaPj"
      }
    },
    {
      "cell_type": "code",
      "source": [
        "print(\"\\nEstudiantes con Nota IA > 15:\\n\")\n",
        "print(df[df[\"Nota_IA\"] > 15][[\"Nombre\", \"Edad\", \"Nota_IA\"]])\n"
      ],
      "metadata": {
        "colab": {
          "base_uri": "https://localhost:8080/"
        },
        "id": "xSJW6QcdjKe7",
        "outputId": "6cb34e67-1024-470f-8ff8-a8cb74de4a4b"
      },
      "execution_count": 37,
      "outputs": [
        {
          "output_type": "stream",
          "name": "stdout",
          "text": [
            "\n",
            "Estudiantes con Nota IA > 15:\n",
            "\n",
            "  Nombre  Edad  Nota_IA\n",
            "0    Ana    20       17\n",
            "2  Maria    19       18\n",
            "4  Sofia    20       20\n"
          ]
        }
      ]
    },
    {
      "cell_type": "markdown",
      "source": [
        "*4. Agrega una nueva columna llamada Promedio que contenga el promedio de\n",
        "Nota_Matemáticas y Nota_IA.*"
      ],
      "metadata": {
        "id": "V6qcNgMMhcR5"
      }
    },
    {
      "cell_type": "code",
      "source": [
        "df[\"Promedio\"] = (df[\"Nota_Matematicas\"] + df[\"Nota_IA\"]) / 2\n",
        "print(df)"
      ],
      "metadata": {
        "colab": {
          "base_uri": "https://localhost:8080/"
        },
        "id": "UrU41Q4CjM8s",
        "outputId": "778f342b-8180-4bbd-8663-5df58e7d2076"
      },
      "execution_count": 43,
      "outputs": [
        {
          "output_type": "stream",
          "name": "stdout",
          "text": [
            "  Nombre  Edad  Nota_Matematicas  Nota_IA  Promedio\n",
            "0    Ana    20                18       17      17.5\n",
            "1   Luis    21                15       14      14.5\n",
            "2  Maria    19                16       18      17.0\n",
            "3  Pedro    22                12       13      12.5\n",
            "4  Sofia    20                19       20      19.5\n"
          ]
        }
      ]
    },
    {
      "cell_type": "markdown",
      "source": [
        "*5. Ordena el DataFrame según la columna Promedio de mayor a menor.*"
      ],
      "metadata": {
        "id": "hkEUCDscheTM"
      }
    },
    {
      "cell_type": "code",
      "source": [
        "df_ordenado = df.sort_values(\"Promedio\", ascending=False)\n",
        "print(df_ordenado)"
      ],
      "metadata": {
        "colab": {
          "base_uri": "https://localhost:8080/"
        },
        "id": "GT0EwRJHjPlU",
        "outputId": "80395823-6ed0-4650-b91b-63ee57d0444f"
      },
      "execution_count": 44,
      "outputs": [
        {
          "output_type": "stream",
          "name": "stdout",
          "text": [
            "  Nombre  Edad  Nota_Matematicas  Nota_IA  Promedio\n",
            "4  Sofia    20                19       20      19.5\n",
            "0    Ana    20                18       17      17.5\n",
            "2  Maria    19                16       18      17.0\n",
            "1   Luis    21                15       14      14.5\n",
            "3  Pedro    22                12       13      12.5\n"
          ]
        }
      ]
    },
    {
      "cell_type": "markdown",
      "source": [
        "***Parte 3: Algoritmia aplicada***"
      ],
      "metadata": {
        "id": "1s0gDw2Khglz"
      }
    },
    {
      "cell_type": "markdown",
      "source": [
        "*1. Escribe una función en Python que reciba una lista de números y devuelva:\n",
        "o El número mayor\n",
        "o El número menor\n",
        "o El promedio*"
      ],
      "metadata": {
        "id": "uC-izvD_hihD"
      }
    },
    {
      "cell_type": "code",
      "source": [
        "import numpy as np\n",
        "import pandas as pd\n",
        "\n",
        "def analizar_lista(lista):\n",
        "    return max(lista), min(lista), sum(lista) / len(lista)\n",
        "\n",
        "nums = [5, 8, 2, 10, 3]\n",
        "mayor, menor, promedio = analizar_lista(nums)\n",
        "\n",
        "print(\"\\nLista:\", nums)\n",
        "print(f\"Mayor:    {mayor}\")\n",
        "print(f\"Menor:    {menor}\")\n",
        "print(f\"Promedio: {promedio:.2f}\")\n"
      ],
      "metadata": {
        "colab": {
          "base_uri": "https://localhost:8080/"
        },
        "id": "71uDFukfjSkr",
        "outputId": "4519538a-e907-4981-f02c-cbdf2962348b"
      },
      "execution_count": 53,
      "outputs": [
        {
          "output_type": "stream",
          "name": "stdout",
          "text": [
            "\n",
            "Lista: [5, 8, 2, 10, 3]\n",
            "Mayor:    10\n",
            "Menor:    2\n",
            "Promedio: 5.60\n"
          ]
        }
      ]
    },
    {
      "cell_type": "markdown",
      "source": [
        "*2. Usando NumPy, implementa una función de activación Sigmoide definida como:\n",
        "f(x)=11+e−xf(x) = \\frac{1}{1 + e^{-x}}f(x)=1+e−x1\n",
        "Aplica la función a un arreglo x = np.array([-2, -1, 0, 1, 2]).*"
      ],
      "metadata": {
        "id": "ZIq8jNGchlaE"
      }
    },
    {
      "cell_type": "code",
      "source": [
        "import numpy as np\n",
        "\n",
        "def sigmoid(x):\n",
        "    return 1 / (1 + np.exp(-x))\n",
        "\n",
        "x = np.array([-2, -1, 0, 1, 2])\n",
        "\n",
        "resultado = sigmoid(x)\n",
        "print(\"Arreglo original:\", x)\n",
        "print(\"Sigmoide aplicada:\", resultado)\n"
      ],
      "metadata": {
        "colab": {
          "base_uri": "https://localhost:8080/"
        },
        "id": "7esKynZVjYsd",
        "outputId": "25b3a3e1-4e2f-4b31-ada0-f56c139c5f8a"
      },
      "execution_count": 56,
      "outputs": [
        {
          "output_type": "stream",
          "name": "stdout",
          "text": [
            "Arreglo original: [-2 -1  0  1  2]\n",
            "Sigmoide aplicada: [0.11920292 0.26894142 0.5        0.73105858 0.88079708]\n"
          ]
        }
      ]
    },
    {
      "cell_type": "markdown",
      "source": [
        "*3. Crea una función que clasifique a los estudiantes del DataFrame en \"Aprobado\"\n",
        "si su Promedio ≥ 14, y \"Desaprobado\" en caso contrario. Añade una nueva\n",
        "columna llamada Estado.*"
      ],
      "metadata": {
        "id": "WltRbuaqhqcR"
      }
    },
    {
      "cell_type": "code",
      "source": [
        "df[\"Estado\"] = np.where(df[\"Promedio\"] >= 14, \"Aprobado\", \"Desaprobado\")\n",
        "print(df)"
      ],
      "metadata": {
        "colab": {
          "base_uri": "https://localhost:8080/"
        },
        "id": "SCbzjJtAjb5c",
        "outputId": "7b7a5ee2-e381-4593-db93-76a9c9d27cb7"
      },
      "execution_count": 57,
      "outputs": [
        {
          "output_type": "stream",
          "name": "stdout",
          "text": [
            "  Nombre  Edad  Nota_Matematicas  Nota_IA  Promedio       Estado\n",
            "0    Ana    20                18       17      17.5     Aprobado\n",
            "1   Luis    21                15       14      14.5     Aprobado\n",
            "2  Maria    19                16       18      17.0     Aprobado\n",
            "3  Pedro    22                12       13      12.5  Desaprobado\n",
            "4  Sofia    20                19       20      19.5     Aprobado\n"
          ]
        }
      ]
    },
    {
      "cell_type": "markdown",
      "source": [
        "***Parte 4: Mini-proyecto (Ventas)***"
      ],
      "metadata": {
        "id": "Ne1jZkHUhyTS"
      }
    },
    {
      "cell_type": "markdown",
      "source": [
        "*1. Agrega una nueva columna llamada Crecimiento que calcule el porcentaje de\n",
        "crecimiento entre Ventas_2024 y Ventas_2025*"
      ],
      "metadata": {
        "id": "azKl7JXdh0jE"
      }
    },
    {
      "cell_type": "code",
      "source": [
        "import numpy as np\n",
        "import pandas as pd\n",
        "\n",
        "ventas = {\n",
        "    \"Producto\": [\"A\", \"B\", \"C\", \"D\"],\n",
        "    \"Ventas_2024\": [100, 150, 200, 250],\n",
        "    \"Ventas_2025\": [120, 180, 260, 270]\n",
        "}\n",
        "df_ventas = pd.DataFrame(ventas)\n",
        "\n",
        "df_ventas[\"Crecimiento\"] = ((df_ventas[\"Ventas_2025\"] - df_ventas[\"Ventas_2024\"]) / df_ventas[\"Ventas_2024\"]) * 100\n",
        "df_ventas[\"Crecimiento\"] = df_ventas[\"Crecimiento\"].apply(lambda x: f\"{x:.2f}%\")\n",
        "\n",
        "print(\"\\nDataFrame de ventas con Crecimiento (%):\\n\", df_ventas)\n"
      ],
      "metadata": {
        "colab": {
          "base_uri": "https://localhost:8080/"
        },
        "id": "tw5HVi4IjgTs",
        "outputId": "15600398-9360-44ae-cf5e-5cc7c048f1ed"
      },
      "execution_count": 58,
      "outputs": [
        {
          "output_type": "stream",
          "name": "stdout",
          "text": [
            "\n",
            "DataFrame de ventas con Crecimiento (%):\n",
            "   Producto  Ventas_2024  Ventas_2025 Crecimiento\n",
            "0        A          100          120      20.00%\n",
            "1        B          150          180      20.00%\n",
            "2        C          200          260      30.00%\n",
            "3        D          250          270       8.00%\n"
          ]
        }
      ]
    },
    {
      "cell_type": "markdown",
      "source": [
        "*2. Identifica el producto con mayor crecimiento y muéstralo.*"
      ],
      "metadata": {
        "id": "S1T2mFKkh69D"
      }
    },
    {
      "cell_type": "code",
      "source": [
        "producto_max = df_ventas.loc[df_ventas[\"Crecimiento\"].str.rstrip('%').astype(float).idxmax()]\n",
        "print(\"\\nProducto con mayor crecimiento:\\n\", producto_max)"
      ],
      "metadata": {
        "colab": {
          "base_uri": "https://localhost:8080/"
        },
        "id": "tebvSdivjqxE",
        "outputId": "c92382bf-d60d-4997-e448-6a49110b8831"
      },
      "execution_count": 65,
      "outputs": [
        {
          "output_type": "stream",
          "name": "stdout",
          "text": [
            "\n",
            "Producto con mayor crecimiento:\n",
            " Producto            C\n",
            "Ventas_2024       200\n",
            "Ventas_2025       260\n",
            "Crecimiento    30.00%\n",
            "Name: 2, dtype: object\n"
          ]
        }
      ]
    },
    {
      "cell_type": "markdown",
      "source": [
        "***Parte 5: Resolución de ecuaciones***\n"
      ],
      "metadata": {
        "id": "D8IN667iiAAi"
      }
    },
    {
      "cell_type": "markdown",
      "source": [
        "*1. Ecuación de primer grado\n",
        "o Implementa una función en Python que resuelva una ecuación de la forma:\n",
        "ax+b=0ax + b = 0ax+b=0\n",
        "por ejemplo: 2x + 4 = 0.\n",
        "o La función debe retornar el valor de x.*"
      ],
      "metadata": {
        "id": "NMhhPYkiiAdr"
      }
    },
    {
      "cell_type": "code",
      "source": [
        "import numpy as np\n",
        "import pandas as pd\n",
        "def ecuacion_1grado(a, b):\n",
        "    return -b / a\n",
        "\n",
        "print(\"\\nEcuación: 2x + 4 = 0, \\n\"\n",
        "\"Solución x =\", ecuacion_1grado(2, 4))"
      ],
      "metadata": {
        "colab": {
          "base_uri": "https://localhost:8080/"
        },
        "id": "YtHK0SK0j3s0",
        "outputId": "f17a2ead-2ec1-41e9-826d-04bd8037dc45"
      },
      "execution_count": 67,
      "outputs": [
        {
          "output_type": "stream",
          "name": "stdout",
          "text": [
            "\n",
            "Ecuación: 2x + 4 = 0, \n",
            "Solución x = -2.0\n"
          ]
        }
      ]
    },
    {
      "cell_type": "markdown",
      "source": [
        "*2. Ecuación de segundo grado\n",
        "o Implementa una función en Python que resuelva una ecuación de la forma:\n",
        "ax2+bx+c=0ax^2 + bx + c = 0ax2+bx+c=0\n",
        "usando la fórmula general:\n",
        "x=−b±b2−4ac2ax = \\frac{-b \\pm \\sqrt{b^2 - 4ac}}{2a}x=2a−b±b2−4ac\n",
        "o La función debe retornar las dos soluciones (reales o complejas).*"
      ],
      "metadata": {
        "id": "A-R0bbvBiDca"
      }
    },
    {
      "cell_type": "code",
      "source": [
        "import numpy as np\n",
        "\n",
        "def ecuacion_2grado(a, b, c):\n",
        "    disc = b**2 - 4*a*c\n",
        "    if disc >= 0:\n",
        "        x1 = (-b + np.sqrt(disc)) / (2*a)\n",
        "        x2 = (-b - np.sqrt(disc)) / (2*a)\n",
        "    else:\n",
        "        x1 = (-b + np.lib.scimath.sqrt(disc)) / (2*a)\n",
        "        x2 = (-b - np.lib.scimath.sqrt(disc)) / (2*a)\n",
        "    return x1, x2\n",
        "\n",
        "sol1, sol2 = ecuacion_2grado(1, -5, 6)\n",
        "print(f\"Las dos soluciones son:\\n\"\n",
        "      f\"x1 = {sol1} \\n\"\n",
        "      f\"x2 = {sol2}\")"
      ],
      "metadata": {
        "colab": {
          "base_uri": "https://localhost:8080/"
        },
        "id": "1gNxFIxAj8Hb",
        "outputId": "1d4046ab-8576-4151-9939-2c233ccb73ea"
      },
      "execution_count": 73,
      "outputs": [
        {
          "output_type": "stream",
          "name": "stdout",
          "text": [
            "Las dos soluciones son:\n",
            "x1 = 3.0 \n",
            "x2 = 2.0\n"
          ]
        }
      ]
    }
  ]
}